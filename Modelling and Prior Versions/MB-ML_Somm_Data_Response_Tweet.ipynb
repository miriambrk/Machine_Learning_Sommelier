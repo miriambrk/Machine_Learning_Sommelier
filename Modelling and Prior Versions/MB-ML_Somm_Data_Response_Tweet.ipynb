{
 "cells": [
  {
   "cell_type": "code",
   "execution_count": 5,
   "metadata": {
    "collapsed": true
   },
   "outputs": [],
   "source": [
    "import numpy as np\n",
    "import pandas as pd"
   ]
  },
  {
   "cell_type": "markdown",
   "metadata": {},
   "source": [
    "Data Files can be found here:\n",
    "    \n",
    "    https://www.kaggle.com/zynicide/wine-reviews\n",
    "        \n",
    "The dataset was scraped from WineEnthusiest.\n",
    "\n",
    "The file used is:\n",
    "\n",
    "winemag-data_first150k.csv\n",
    "\n",
    "It was first cleaned and de-duped resulting in no_dups_wine_data.csv.\n"
   ]
  },
  {
   "cell_type": "code",
   "execution_count": 6,
   "metadata": {
    "collapsed": true
   },
   "outputs": [],
   "source": [
    "def get_wine_variety_response (variety):\n",
    "    #read the CSV file\n",
    "    sommData = pd.read_csv('Data/no_dups_wine_data.csv')\n",
    "    \n",
    "    output_tweets = []\n",
    "    \n",
    "    #find all the wineries for a particular variety to add to the output tweet\n",
    "    variety_prediction = variety\n",
    "    var_list = sommData.loc[sommData['variety'] == variety_prediction]\n",
    "    \n",
    "    #get the highest rated wines\n",
    "    sorted_df = var_list.sort_values([\"points\"], ascending=[False])\n",
    "    #sorted_df['winery'].head()\n",
    "    wineries = sorted_df[['winery','price']]\n",
    "    wineries['winery'].unique()[0:3]\n",
    "    \n",
    "    #get the average price for all wines in the TOP 3 wineries\n",
    "    selected_wineries = wineries[wineries['winery'].isin(wineries['winery'].unique()[0:3])]\n",
    "    avg_price = selected_wineries['price'].mean()\n",
    "    \n",
    "    wines = (\"The highest rated \" + variety_prediction + \"s are from these wineries: \" + wineries['winery'].unique()[0] + \", \" \\\n",
    "        + wineries['winery'].unique()[1] + \", or \" + wineries['winery'].unique()[2] +\". Avg Price: $%.2f\" % avg_price)\n",
    "    output_tweets.append(wines)\n",
    "    \n",
    "    #least expensive\n",
    "    sorted_df = var_list.sort_values([\"price\"], ascending=[True])\n",
    "    #sorted_df['winery'].head()\n",
    "    wineries = sorted_df[['winery','price']]\n",
    "    \n",
    "    #get the average price for all wines in the BOTTOM 3 wineries\n",
    "    selected_wineries = wineries[wineries['winery'].isin(wineries['winery'].unique()[0:3])]\n",
    "    avg_price = selected_wineries['price'].mean()\n",
    "    wines= (\"The least expensive \" + variety_prediction + \"s are from these wineries: \" + wineries['winery'].unique()[0] + \", \" \\\n",
    "        + wineries['winery'].unique()[1] + \", or \" + wineries['winery'].unique()[2] +\". Avg Price: $%.2f\" % avg_price)\n",
    "    output_tweets.append(wines)\n",
    "    \n",
    "    return output_tweets"
   ]
  },
  {
   "cell_type": "code",
   "execution_count": 7,
   "metadata": {},
   "outputs": [
    {
     "data": {
      "text/plain": [
       "['The highest rated Pinot Noirs are from these wineries: Williams Selyem, Evening Land, or W.H. Smith. Avg Price: $61.22',\n",
       " 'The least expensive Pinot Noirs are from these wineries: Davis Bynum, Domaine Bruno Clair, or Domaine Albert Mann. Avg Price: $27.65']"
      ]
     },
     "execution_count": 7,
     "metadata": {},
     "output_type": "execute_result"
    }
   ],
   "source": [
    "#test\n",
    "get_wine_variety_response(\"Pinot Noir\")"
   ]
  },
  {
   "cell_type": "code",
   "execution_count": null,
   "metadata": {
    "collapsed": true
   },
   "outputs": [],
   "source": []
  }
 ],
 "metadata": {
  "kernelspec": {
   "display_name": "Python [default]",
   "language": "python",
   "name": "python3"
  },
  "language_info": {
   "codemirror_mode": {
    "name": "ipython",
    "version": 3
   },
   "file_extension": ".py",
   "mimetype": "text/x-python",
   "name": "python",
   "nbconvert_exporter": "python",
   "pygments_lexer": "ipython3",
   "version": "3.6.1"
  }
 },
 "nbformat": 4,
 "nbformat_minor": 2
}
