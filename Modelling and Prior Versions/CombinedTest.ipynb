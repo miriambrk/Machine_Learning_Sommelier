{
 "cells": [
  {
   "cell_type": "code",
   "execution_count": 1,
   "metadata": {},
   "outputs": [
    {
     "name": "stderr",
     "output_type": "stream",
     "text": [
      "Using TensorFlow backend.\n"
     ]
    }
   ],
   "source": [
    "# Import dependencies\n",
    "import numpy as np\n",
    "import pandas as pd\n",
    "import tweepy\n",
    "import time\n",
    "import json\n",
    "\n",
    "import boto3\n",
    "import botocore\n",
    "\n",
    "from sklearn.preprocessing import LabelEncoder\n",
    "from sklearn.feature_extraction.text import CountVectorizer\n",
    "from sklearn.externals import joblib\n",
    "\n",
    "from keras.models import load_model"
   ]
  },
  {
   "cell_type": "code",
   "execution_count": 2,
   "metadata": {
    "collapsed": true
   },
   "outputs": [],
   "source": [
    "# import the model from AWS\n",
    "BUCKET_NAME = 'mlsomm' # replace with your bucket name\n",
    "KEY = 'ML_Somm.h5' # replace with your object key\n",
    "\n",
    "s3 = boto3.resource('s3')\n",
    "\n",
    "try:\n",
    "    s3.Bucket(BUCKET_NAME).download_file(KEY, 'somm_model.h5')\n",
    "except botocore.exceptions.ClientError as e:\n",
    "    if e.response['Error']['Code'] == \"404\":\n",
    "        print(\"The object does not exist.\")\n",
    "    else:\n",
    "        raise"
   ]
  },
  {
   "cell_type": "code",
   "execution_count": 5,
   "metadata": {
    "collapsed": true
   },
   "outputs": [],
   "source": [
    "# Twitter API Keys\n",
    "consumer_key = \"AoUHxKdOO6aein5z81cdCDZxs\"\n",
    "consumer_secret = \"MSEMsxbmglFzBUQsQpNoaS98GCvwDG1xDRrB9hrrvJjD1mrwr4\"\n",
    "access_token = \"922955241078841344-oPc8kbdukcySJbL13OroEOYlF8CB9ZE\"\n",
    "access_token_secret = \"nAc5b4zmxJ7hf1vC0HjNTZdISWglfrzqbCVnfrwuIdmHU\"\n",
    "\n",
    "# Twitter Credentials\n",
    "auth = tweepy.OAuthHandler(consumer_key, consumer_secret)\n",
    "auth.set_access_token(access_token, access_token_secret)\n",
    "api = tweepy.API(auth, parser=tweepy.parsers.JSONParser())"
   ]
  },
  {
   "cell_type": "code",
   "execution_count": 9,
   "metadata": {
    "collapsed": true
   },
   "outputs": [],
   "source": [
    "responses = ['Hey there! You might want to try a ', 'That sounds like a ', \"I think you'd love a \"]\n",
    "\n",
    "def get_mentions(last_id, wine_description):\n",
    "    mentions = api.mentions_timeline(since_id = last_id, count=1, result_type=\"recent\")\n",
    "    last_id = mentions[0]['id']\n",
    "    for mention in mentions:\n",
    "        wine_description = mention['text']\n",
    "        target_user = '@' + mention['user']['screen_name']\n",
    "        print(\"Wine description: \" +  wine_description)\n",
    "        print(\"Requested by: \" + target_user)\n",
    "#         count = 0 \n",
    "#         while count < len(responses):\n",
    "#             for i in responses:\n",
    "#                 api.update_status(i + \"\" + target_user)\n",
    "#                 count+= 1 \n",
    "    return last_id, wine_description, target_user"
   ]
  },
  {
   "cell_type": "code",
   "execution_count": 13,
   "metadata": {},
   "outputs": [
    {
     "name": "stdout",
     "output_type": "stream",
     "text": [
      "Wine description: @mberkow2017 Ripe cherries and strawberries, spice, and vanilla aromas. This bold wine is well balanced, with earth… https://t.co/EiLQSJ9JbR\n",
      "Requested by: @tiwaamisu\n",
      "['Barbera']\n",
      "['The highest rated Barberas are from these wineries: Braida di Giacomo Bologna, Franco M. Martinetti, or Cantina Iuli. Avg Price: $25.22', 'The least expensive Barberas are from these wineries: Cascina Guido Berta, F.lli Trinchero, or Vietti. Avg Price: $24.15']\n"
     ]
    },
    {
     "ename": "KeyboardInterrupt",
     "evalue": "",
     "output_type": "error",
     "traceback": [
      "\u001b[1;31m---------------------------------------------------------------------------\u001b[0m",
      "\u001b[1;31mIndexError\u001b[0m                                Traceback (most recent call last)",
      "\u001b[1;32m<ipython-input-13-4b610d6c14ac>\u001b[0m in \u001b[0;36m<module>\u001b[1;34m()\u001b[0m\n\u001b[0;32m      5\u001b[0m     \u001b[1;32mtry\u001b[0m\u001b[1;33m:\u001b[0m\u001b[1;33m\u001b[0m\u001b[0m\n\u001b[1;32m----> 6\u001b[1;33m         \u001b[0mlast_id\u001b[0m\u001b[1;33m,\u001b[0m \u001b[0mwine_description\u001b[0m\u001b[1;33m,\u001b[0m \u001b[0mtarget_user\u001b[0m \u001b[1;33m=\u001b[0m \u001b[0mget_mentions\u001b[0m\u001b[1;33m(\u001b[0m\u001b[0mlast_id\u001b[0m\u001b[1;33m,\u001b[0m \u001b[0mwine_description\u001b[0m\u001b[1;33m)\u001b[0m\u001b[1;33m\u001b[0m\u001b[0m\n\u001b[0m\u001b[0;32m      7\u001b[0m         \u001b[0mwine\u001b[0m \u001b[1;33m=\u001b[0m \u001b[0mrunModel\u001b[0m\u001b[1;33m(\u001b[0m\u001b[0mwine_description\u001b[0m\u001b[1;33m)\u001b[0m\u001b[1;33m\u001b[0m\u001b[0m\n",
      "\u001b[1;32m<ipython-input-9-c1a637cf903e>\u001b[0m in \u001b[0;36mget_mentions\u001b[1;34m(last_id, wine_description)\u001b[0m\n\u001b[0;32m      4\u001b[0m     \u001b[0mmentions\u001b[0m \u001b[1;33m=\u001b[0m \u001b[0mapi\u001b[0m\u001b[1;33m.\u001b[0m\u001b[0mmentions_timeline\u001b[0m\u001b[1;33m(\u001b[0m\u001b[0msince_id\u001b[0m \u001b[1;33m=\u001b[0m \u001b[0mlast_id\u001b[0m\u001b[1;33m,\u001b[0m \u001b[0mcount\u001b[0m\u001b[1;33m=\u001b[0m\u001b[1;36m1\u001b[0m\u001b[1;33m,\u001b[0m \u001b[0mresult_type\u001b[0m\u001b[1;33m=\u001b[0m\u001b[1;34m\"recent\"\u001b[0m\u001b[1;33m)\u001b[0m\u001b[1;33m\u001b[0m\u001b[0m\n\u001b[1;32m----> 5\u001b[1;33m     \u001b[0mlast_id\u001b[0m \u001b[1;33m=\u001b[0m \u001b[0mmentions\u001b[0m\u001b[1;33m[\u001b[0m\u001b[1;36m0\u001b[0m\u001b[1;33m]\u001b[0m\u001b[1;33m[\u001b[0m\u001b[1;34m'id'\u001b[0m\u001b[1;33m]\u001b[0m\u001b[1;33m\u001b[0m\u001b[0m\n\u001b[0m\u001b[0;32m      6\u001b[0m     \u001b[1;32mfor\u001b[0m \u001b[0mmention\u001b[0m \u001b[1;32min\u001b[0m \u001b[0mmentions\u001b[0m\u001b[1;33m:\u001b[0m\u001b[1;33m\u001b[0m\u001b[0m\n",
      "\u001b[1;31mIndexError\u001b[0m: list index out of range",
      "\nDuring handling of the above exception, another exception occurred:\n",
      "\u001b[1;31mKeyboardInterrupt\u001b[0m                         Traceback (most recent call last)",
      "\u001b[1;32m<ipython-input-13-4b610d6c14ac>\u001b[0m in \u001b[0;36m<module>\u001b[1;34m()\u001b[0m\n\u001b[0;32m     11\u001b[0m         \u001b[0mcount\u001b[0m \u001b[1;33m+=\u001b[0m\u001b[1;36m1\u001b[0m\u001b[1;33m\u001b[0m\u001b[0m\n\u001b[0;32m     12\u001b[0m     \u001b[1;32mexcept\u001b[0m\u001b[1;33m:\u001b[0m\u001b[1;33m\u001b[0m\u001b[0m\n\u001b[1;32m---> 13\u001b[1;33m         \u001b[0mtime\u001b[0m\u001b[1;33m.\u001b[0m\u001b[0msleep\u001b[0m\u001b[1;33m(\u001b[0m\u001b[1;36m1\u001b[0m\u001b[1;33m)\u001b[0m\u001b[1;33m\u001b[0m\u001b[0m\n\u001b[0m\u001b[0;32m     14\u001b[0m     \u001b[1;31m#print(since_id_)\u001b[0m\u001b[1;33m\u001b[0m\u001b[1;33m\u001b[0m\u001b[0m\n",
      "\u001b[1;31mKeyboardInterrupt\u001b[0m: "
     ]
    }
   ],
   "source": [
    "last_id = None\n",
    "wine_description = None\n",
    "count = 0\n",
    "while count<5:\n",
    "    try:\n",
    "        last_id, wine_description, target_user = get_mentions(last_id, wine_description)\n",
    "        wine = runModel(wine_description)\n",
    "        out = get_wine_variety_response(wine)\n",
    "        tweetBack(out, target_user)\n",
    "        print(out)\n",
    "        count +=1\n",
    "    except:\n",
    "        time.sleep(1)\n",
    "    #print(since_id_)"
   ]
  },
  {
   "cell_type": "code",
   "execution_count": 2,
   "metadata": {
    "collapsed": true
   },
   "outputs": [],
   "source": [
    "def runModel(wine_description):\n",
    "    vectorizer = joblib.load('vectorizer.pkl')\n",
    "    label_encoder = joblib.load('label_encoder.pkl') \n",
    "\n",
    "\n",
    "\n",
    "    # load the model\n",
    "    model = load_model(\"somm_model.h5\")\n",
    "    # model = load_model(\"ML_Somm.h5\")\n",
    "\n",
    "    # test the data\n",
    "    test = [wine_description]\n",
    "    test_vec = vectorizer.transform(test)\n",
    "    encoded_test = model.predict_classes(test_vec)\n",
    "    predict_label = label_encoder.inverse_transform(encoded_test)\n",
    "    print(predict_label)\n",
    "    \n",
    "    wine_type = predict_label[0]\n",
    "    \n",
    "    return wine_type"
   ]
  },
  {
   "cell_type": "code",
   "execution_count": 3,
   "metadata": {
    "collapsed": true
   },
   "outputs": [],
   "source": [
    "def get_wine_variety_response (variety):\n",
    "    #read the CSV file\n",
    "    sommData = pd.read_csv('Data/no_dups_wine_data.csv')\n",
    "    \n",
    "    output_tweets = []\n",
    "    \n",
    "    #find all the wineries for a particular variety to add to the output tweet\n",
    "    variety_prediction = variety\n",
    "    var_list = sommData.loc[sommData['variety'] == variety_prediction]\n",
    "    \n",
    "    #get the highest rated wines\n",
    "    sorted_df = var_list.sort_values([\"points\"], ascending=[False])\n",
    "    #sorted_df['winery'].head()\n",
    "    wineries = sorted_df[['winery','price']]\n",
    "    wineries['winery'].unique()[0:3]\n",
    "    \n",
    "    #get the average price for all wines in the TOP 3 wineries\n",
    "    selected_wineries = wineries[wineries['winery'].isin(wineries['winery'].unique()[0:3])]\n",
    "    avg_price = selected_wineries['price'].mean()\n",
    "    \n",
    "    wines = (\"The highest rated \" + variety_prediction + \"s are from these wineries: \" + wineries['winery'].unique()[0] + \", \" \\\n",
    "        + wineries['winery'].unique()[1] + \", or \" + wineries['winery'].unique()[2] +\". Avg Price: $%.2f\" % avg_price)\n",
    "    output_tweets.append(wines)\n",
    "    \n",
    "    #least expensive\n",
    "    sorted_df = var_list.sort_values([\"price\"], ascending=[True])\n",
    "    #sorted_df['winery'].head()\n",
    "    wineries = sorted_df[['winery','price']]\n",
    "    \n",
    "    #get the average price for all wines in the BOTTOM 3 wineries\n",
    "    selected_wineries = wineries[wineries['winery'].isin(wineries['winery'].unique()[0:3])]\n",
    "    avg_price = selected_wineries['price'].mean()\n",
    "    wines= (\"The least expensive \" + variety_prediction + \"s are from these wineries: \" + wineries['winery'].unique()[0] + \", \" \\\n",
    "        + wineries['winery'].unique()[1] + \", or \" + wineries['winery'].unique()[2] +\". Avg Price: $%.2f\" % avg_price)\n",
    "    output_tweets.append(wines)\n",
    "    \n",
    "    return output_tweets"
   ]
  },
  {
   "cell_type": "code",
   "execution_count": 12,
   "metadata": {
    "collapsed": true
   },
   "outputs": [],
   "source": [
    "def tweetBack (out_tweets, target):\n",
    "    count = 0 \n",
    "    while count < len(out_tweets):\n",
    "        for i in out_tweets:\n",
    "            api.update_status(i + \" \" + target)\n",
    "            count+= 1 "
   ]
  },
  {
   "cell_type": "code",
   "execution_count": 4,
   "metadata": {},
   "outputs": [
    {
     "name": "stdout",
     "output_type": "stream",
     "text": [
      "['Red Blend']\n"
     ]
    },
    {
     "data": {
      "text/plain": [
       "[\"The highest rated Red Blends are from these wineries: Giovanni Chiappini, Colgin, or Tenuta dell'Ornellaia. Avg Price: $103.11\",\n",
       " 'The least expensive Red Blends are from these wineries: Campo alla Sughera, Waterbrook, or Viticultori Associati Canicatti. Avg Price: $30.48']"
      ]
     },
     "execution_count": 4,
     "metadata": {},
     "output_type": "execute_result"
    }
   ],
   "source": [
    "test_desc = \"Currant, Plum, Black Cherry & Spice, with notes of Olive, Vanilla Mint, Tobacco, Toasty Cedar, Anise, Pepper & Herbs\"\n",
    "\n",
    "wine = runModel(test_desc)\n",
    "out = get_wine_variety_response(wine)\n",
    "\n",
    "out"
   ]
  },
  {
   "cell_type": "code",
   "execution_count": null,
   "metadata": {
    "collapsed": true
   },
   "outputs": [],
   "source": []
  }
 ],
 "metadata": {
  "kernelspec": {
   "display_name": "Python [conda env:PythonData]",
   "language": "python",
   "name": "conda-env-PythonData-py"
  },
  "language_info": {
   "codemirror_mode": {
    "name": "ipython",
    "version": 3
   },
   "file_extension": ".py",
   "mimetype": "text/x-python",
   "name": "python",
   "nbconvert_exporter": "python",
   "pygments_lexer": "ipython3",
   "version": "3.6.1"
  }
 },
 "nbformat": 4,
 "nbformat_minor": 2
}
